{
 "cells": [
  {
   "cell_type": "markdown",
   "id": "d86fb52d",
   "metadata": {},
   "source": [
    "# Tweets on iPhone 14\n",
    "The purpose of this Jupyter Notebook is to illustrate getting data from Twitter as well as showing the final data visualizations created from the dataset found. I signed up for a Developer's account for Twitter's API [through this](https://developer.twitter.com/en/portal/dashboard) with Essential access (lowest access)."
   ]
  },
  {
   "cell_type": "markdown",
   "id": "947c621b",
   "metadata": {},
   "source": [
    "## Extracting Tweets through Twitter API"
   ]
  },
  {
   "cell_type": "raw",
   "id": "adad20ad",
   "metadata": {},
   "source": [
    "pip install tweepy"
   ]
  },
  {
   "cell_type": "markdown",
   "id": "b4d34daa",
   "metadata": {},
   "source": [
    "I used the command above to install tweepy, a Python package that allows for better access to the Twitter API. You can see the code that I used to pull requests for tweets in my [github](https://github.com/Braunstsf/data-assignment-twitter) link. I was only able to pull 100 tweets for this first dataset with limited attributes due to having an Essentials Developer Account. In order to replicate this in greater detail, one could appeal for an Academic Access Developer Account to take part in concepts such as sentimental analysis. "
   ]
  },
  {
   "cell_type": "code",
   "execution_count": 1,
   "id": "30501b04",
   "metadata": {},
   "outputs": [],
   "source": [
    "import pandas as pd\n",
    "import numpy as np\n",
    "\n",
    "twitter_df = pd.read_csv('tweepy_data_iPhone.csv')"
   ]
  },
  {
   "cell_type": "code",
   "execution_count": 2,
   "id": "f3d94ff4",
   "metadata": {},
   "outputs": [
    {
     "data": {
      "text/html": [
       "<div>\n",
       "<style scoped>\n",
       "    .dataframe tbody tr th:only-of-type {\n",
       "        vertical-align: middle;\n",
       "    }\n",
       "\n",
       "    .dataframe tbody tr th {\n",
       "        vertical-align: top;\n",
       "    }\n",
       "\n",
       "    .dataframe thead th {\n",
       "        text-align: right;\n",
       "    }\n",
       "</style>\n",
       "<table border=\"1\" class=\"dataframe\">\n",
       "  <thead>\n",
       "    <tr style=\"text-align: right;\">\n",
       "      <th></th>\n",
       "      <th>id</th>\n",
       "      <th>lang</th>\n",
       "      <th>username</th>\n",
       "      <th>created_at</th>\n",
       "      <th>public_metrics</th>\n",
       "    </tr>\n",
       "  </thead>\n",
       "  <tbody>\n",
       "    <tr>\n",
       "      <th>0</th>\n",
       "      <td>1572129025019248644</td>\n",
       "      <td>en</td>\n",
       "      <td>IndianExpress</td>\n",
       "      <td>2022-09-20 07:42:22+00:00</td>\n",
       "      <td>{'retweet_count': 1, 'reply_count': 0, 'like_c...</td>\n",
       "    </tr>\n",
       "    <tr>\n",
       "      <th>1</th>\n",
       "      <td>1572129024813707271</td>\n",
       "      <td>ja</td>\n",
       "      <td>Collectbook</td>\n",
       "      <td>2022-09-20 07:42:22+00:00</td>\n",
       "      <td>{'retweet_count': 0, 'reply_count': 0, 'like_c...</td>\n",
       "    </tr>\n",
       "    <tr>\n",
       "      <th>2</th>\n",
       "      <td>1572129023748186115</td>\n",
       "      <td>ar</td>\n",
       "      <td>bdalrhmn_ghzl</td>\n",
       "      <td>2022-09-20 07:42:22+00:00</td>\n",
       "      <td>{'retweet_count': 12890, 'reply_count': 0, 'li...</td>\n",
       "    </tr>\n",
       "    <tr>\n",
       "      <th>3</th>\n",
       "      <td>1572129023287001090</td>\n",
       "      <td>ar</td>\n",
       "      <td>Hansraj48299197</td>\n",
       "      <td>2022-09-20 07:42:22+00:00</td>\n",
       "      <td>{'retweet_count': 6227, 'reply_count': 0, 'lik...</td>\n",
       "    </tr>\n",
       "    <tr>\n",
       "      <th>4</th>\n",
       "      <td>1572129021340831746</td>\n",
       "      <td>th</td>\n",
       "      <td>imyourwalnuttt</td>\n",
       "      <td>2022-09-20 07:42:22+00:00</td>\n",
       "      <td>{'retweet_count': 15421, 'reply_count': 0, 'li...</td>\n",
       "    </tr>\n",
       "  </tbody>\n",
       "</table>\n",
       "</div>"
      ],
      "text/plain": [
       "                    id lang         username                 created_at  \\\n",
       "0  1572129025019248644   en    IndianExpress  2022-09-20 07:42:22+00:00   \n",
       "1  1572129024813707271   ja      Collectbook  2022-09-20 07:42:22+00:00   \n",
       "2  1572129023748186115   ar    bdalrhmn_ghzl  2022-09-20 07:42:22+00:00   \n",
       "3  1572129023287001090   ar  Hansraj48299197  2022-09-20 07:42:22+00:00   \n",
       "4  1572129021340831746   th   imyourwalnuttt  2022-09-20 07:42:22+00:00   \n",
       "\n",
       "                                      public_metrics  \n",
       "0  {'retweet_count': 1, 'reply_count': 0, 'like_c...  \n",
       "1  {'retweet_count': 0, 'reply_count': 0, 'like_c...  \n",
       "2  {'retweet_count': 12890, 'reply_count': 0, 'li...  \n",
       "3  {'retweet_count': 6227, 'reply_count': 0, 'lik...  \n",
       "4  {'retweet_count': 15421, 'reply_count': 0, 'li...  "
      ]
     },
     "execution_count": 2,
     "metadata": {},
     "output_type": "execute_result"
    }
   ],
   "source": [
    "twitter_df.head()\n"
   ]
  },
  {
   "cell_type": "code",
   "execution_count": 3,
   "id": "57da7040",
   "metadata": {},
   "outputs": [
    {
     "name": "stdout",
     "output_type": "stream",
     "text": [
      "100\n"
     ]
    }
   ],
   "source": [
    "print(len(twitter_df))"
   ]
  },
  {
   "cell_type": "code",
   "execution_count": 4,
   "id": "28e3cdf1",
   "metadata": {},
   "outputs": [
    {
     "data": {
      "text/plain": [
       "RangeIndex(start=0, stop=100, step=1)"
      ]
     },
     "execution_count": 4,
     "metadata": {},
     "output_type": "execute_result"
    }
   ],
   "source": [
    "twitter_df.index\n"
   ]
  },
  {
   "cell_type": "code",
   "execution_count": 5,
   "id": "7a031335",
   "metadata": {},
   "outputs": [
    {
     "data": {
      "text/plain": [
       "Index(['id', 'lang', 'username', 'created_at', 'public_metrics'], dtype='object')"
      ]
     },
     "execution_count": 5,
     "metadata": {},
     "output_type": "execute_result"
    }
   ],
   "source": [
    "twitter_df.columns"
   ]
  },
  {
   "cell_type": "code",
   "execution_count": 6,
   "id": "32fbd7b0",
   "metadata": {},
   "outputs": [
    {
     "name": "stdout",
     "output_type": "stream",
     "text": [
      "<class 'pandas.core.frame.DataFrame'>\n",
      "RangeIndex: 100 entries, 0 to 99\n",
      "Data columns (total 5 columns):\n",
      " #   Column          Non-Null Count  Dtype \n",
      "---  ------          --------------  ----- \n",
      " 0   id              100 non-null    int64 \n",
      " 1   lang            100 non-null    object\n",
      " 2   username        100 non-null    object\n",
      " 3   created_at      100 non-null    object\n",
      " 4   public_metrics  100 non-null    object\n",
      "dtypes: int64(1), object(4)\n",
      "memory usage: 4.0+ KB\n"
     ]
    }
   ],
   "source": [
    "twitter_df.info()"
   ]
  },
  {
   "cell_type": "markdown",
   "id": "afa7a352",
   "metadata": {},
   "source": [
    "As you can see by the preceding code and data frame, I only have 100 data points and 5 attributes to work with. However, it seems like public_metrics has more attributes inside the dictionaries. "
   ]
  },
  {
   "cell_type": "code",
   "execution_count": 7,
   "id": "3647c416",
   "metadata": {},
   "outputs": [
    {
     "data": {
      "text/plain": [
       "0     {'retweet_count': 1, 'reply_count': 0, 'like_c...\n",
       "1     {'retweet_count': 0, 'reply_count': 0, 'like_c...\n",
       "2     {'retweet_count': 12890, 'reply_count': 0, 'li...\n",
       "3     {'retweet_count': 6227, 'reply_count': 0, 'lik...\n",
       "4     {'retweet_count': 15421, 'reply_count': 0, 'li...\n",
       "                            ...                        \n",
       "95    {'retweet_count': 71, 'reply_count': 0, 'like_...\n",
       "96    {'retweet_count': 0, 'reply_count': 0, 'like_c...\n",
       "97    {'retweet_count': 0, 'reply_count': 0, 'like_c...\n",
       "98    {'retweet_count': 1094, 'reply_count': 0, 'lik...\n",
       "99    {'retweet_count': 277, 'reply_count': 0, 'like...\n",
       "Name: public_metrics, Length: 100, dtype: object"
      ]
     },
     "execution_count": 7,
     "metadata": {},
     "output_type": "execute_result"
    }
   ],
   "source": [
    "twitter_df[\"public_metrics\"]"
   ]
  },
  {
   "cell_type": "code",
   "execution_count": 8,
   "id": "64d904fd",
   "metadata": {},
   "outputs": [
    {
     "data": {
      "text/html": [
       "<div>\n",
       "<style scoped>\n",
       "    .dataframe tbody tr th:only-of-type {\n",
       "        vertical-align: middle;\n",
       "    }\n",
       "\n",
       "    .dataframe tbody tr th {\n",
       "        vertical-align: top;\n",
       "    }\n",
       "\n",
       "    .dataframe thead th {\n",
       "        text-align: right;\n",
       "    }\n",
       "</style>\n",
       "<table border=\"1\" class=\"dataframe\">\n",
       "  <thead>\n",
       "    <tr style=\"text-align: right;\">\n",
       "      <th></th>\n",
       "      <th>0</th>\n",
       "      <th>1</th>\n",
       "      <th>2</th>\n",
       "      <th>3</th>\n",
       "    </tr>\n",
       "  </thead>\n",
       "  <tbody>\n",
       "    <tr>\n",
       "      <th>0</th>\n",
       "      <td>{'retweet_count': 1</td>\n",
       "      <td>'reply_count': 0</td>\n",
       "      <td>'like_count': 0</td>\n",
       "      <td>'quote_count': 0}</td>\n",
       "    </tr>\n",
       "    <tr>\n",
       "      <th>1</th>\n",
       "      <td>{'retweet_count': 0</td>\n",
       "      <td>'reply_count': 0</td>\n",
       "      <td>'like_count': 0</td>\n",
       "      <td>'quote_count': 0}</td>\n",
       "    </tr>\n",
       "    <tr>\n",
       "      <th>2</th>\n",
       "      <td>{'retweet_count': 12890</td>\n",
       "      <td>'reply_count': 0</td>\n",
       "      <td>'like_count': 0</td>\n",
       "      <td>'quote_count': 0}</td>\n",
       "    </tr>\n",
       "    <tr>\n",
       "      <th>3</th>\n",
       "      <td>{'retweet_count': 6227</td>\n",
       "      <td>'reply_count': 0</td>\n",
       "      <td>'like_count': 0</td>\n",
       "      <td>'quote_count': 0}</td>\n",
       "    </tr>\n",
       "    <tr>\n",
       "      <th>4</th>\n",
       "      <td>{'retweet_count': 15421</td>\n",
       "      <td>'reply_count': 0</td>\n",
       "      <td>'like_count': 0</td>\n",
       "      <td>'quote_count': 0}</td>\n",
       "    </tr>\n",
       "    <tr>\n",
       "      <th>...</th>\n",
       "      <td>...</td>\n",
       "      <td>...</td>\n",
       "      <td>...</td>\n",
       "      <td>...</td>\n",
       "    </tr>\n",
       "    <tr>\n",
       "      <th>95</th>\n",
       "      <td>{'retweet_count': 71</td>\n",
       "      <td>'reply_count': 0</td>\n",
       "      <td>'like_count': 0</td>\n",
       "      <td>'quote_count': 0}</td>\n",
       "    </tr>\n",
       "    <tr>\n",
       "      <th>96</th>\n",
       "      <td>{'retweet_count': 0</td>\n",
       "      <td>'reply_count': 0</td>\n",
       "      <td>'like_count': 0</td>\n",
       "      <td>'quote_count': 0}</td>\n",
       "    </tr>\n",
       "    <tr>\n",
       "      <th>97</th>\n",
       "      <td>{'retweet_count': 0</td>\n",
       "      <td>'reply_count': 0</td>\n",
       "      <td>'like_count': 0</td>\n",
       "      <td>'quote_count': 0}</td>\n",
       "    </tr>\n",
       "    <tr>\n",
       "      <th>98</th>\n",
       "      <td>{'retweet_count': 1094</td>\n",
       "      <td>'reply_count': 0</td>\n",
       "      <td>'like_count': 0</td>\n",
       "      <td>'quote_count': 0}</td>\n",
       "    </tr>\n",
       "    <tr>\n",
       "      <th>99</th>\n",
       "      <td>{'retweet_count': 277</td>\n",
       "      <td>'reply_count': 0</td>\n",
       "      <td>'like_count': 0</td>\n",
       "      <td>'quote_count': 0}</td>\n",
       "    </tr>\n",
       "  </tbody>\n",
       "</table>\n",
       "<p>100 rows × 4 columns</p>\n",
       "</div>"
      ],
      "text/plain": [
       "                          0                  1                 2  \\\n",
       "0       {'retweet_count': 1   'reply_count': 0   'like_count': 0   \n",
       "1       {'retweet_count': 0   'reply_count': 0   'like_count': 0   \n",
       "2   {'retweet_count': 12890   'reply_count': 0   'like_count': 0   \n",
       "3    {'retweet_count': 6227   'reply_count': 0   'like_count': 0   \n",
       "4   {'retweet_count': 15421   'reply_count': 0   'like_count': 0   \n",
       "..                      ...                ...               ...   \n",
       "95     {'retweet_count': 71   'reply_count': 0   'like_count': 0   \n",
       "96      {'retweet_count': 0   'reply_count': 0   'like_count': 0   \n",
       "97      {'retweet_count': 0   'reply_count': 0   'like_count': 0   \n",
       "98   {'retweet_count': 1094   'reply_count': 0   'like_count': 0   \n",
       "99    {'retweet_count': 277   'reply_count': 0   'like_count': 0   \n",
       "\n",
       "                     3  \n",
       "0    'quote_count': 0}  \n",
       "1    'quote_count': 0}  \n",
       "2    'quote_count': 0}  \n",
       "3    'quote_count': 0}  \n",
       "4    'quote_count': 0}  \n",
       "..                 ...  \n",
       "95   'quote_count': 0}  \n",
       "96   'quote_count': 0}  \n",
       "97   'quote_count': 0}  \n",
       "98   'quote_count': 0}  \n",
       "99   'quote_count': 0}  \n",
       "\n",
       "[100 rows x 4 columns]"
      ]
     },
     "execution_count": 8,
     "metadata": {},
     "output_type": "execute_result"
    }
   ],
   "source": [
    "twitter_df[\"public_metrics\"].str.split(\",\", expand=True)"
   ]
  },
  {
   "cell_type": "markdown",
   "id": "acb9125a",
   "metadata": {},
   "source": [
    "For the following code, I will be trying to seperate the attributes from the intial attribute, public_metrics, and make 4 other attributes: retweet_count, reply_count, like_count, quote_count."
   ]
  },
  {
   "cell_type": "code",
   "execution_count": 9,
   "id": "dc72157f",
   "metadata": {},
   "outputs": [
    {
     "name": "stdout",
     "output_type": "stream",
     "text": [
      "0     {'retweet_count': 1, 'reply_count': 0, 'like_c...\n",
      "1     {'retweet_count': 0, 'reply_count': 0, 'like_c...\n",
      "2     {'retweet_count': 12890, 'reply_count': 0, 'li...\n",
      "3     {'retweet_count': 6227, 'reply_count': 0, 'lik...\n",
      "4     {'retweet_count': 15421, 'reply_count': 0, 'li...\n",
      "                            ...                        \n",
      "95    {'retweet_count': 71, 'reply_count': 0, 'like_...\n",
      "96    {'retweet_count': 0, 'reply_count': 0, 'like_c...\n",
      "97    {'retweet_count': 0, 'reply_count': 0, 'like_c...\n",
      "98    {'retweet_count': 1094, 'reply_count': 0, 'lik...\n",
      "99    {'retweet_count': 277, 'reply_count': 0, 'like...\n",
      "Name: public_metrics, Length: 100, dtype: object\n"
     ]
    }
   ],
   "source": [
    "public_metrics = twitter_df['public_metrics']\n",
    "print(public_metrics)"
   ]
  },
  {
   "cell_type": "code",
   "execution_count": 10,
   "id": "5e8c4ce2",
   "metadata": {},
   "outputs": [
    {
     "name": "stdout",
     "output_type": "stream",
     "text": [
      "0     'retweet_count': 1, 'reply_count': 0, 'like_co...\n",
      "1     'retweet_count': 0, 'reply_count': 0, 'like_co...\n",
      "2     'retweet_count': 12890, 'reply_count': 0, 'lik...\n",
      "3     'retweet_count': 6227, 'reply_count': 0, 'like...\n",
      "4     'retweet_count': 15421, 'reply_count': 0, 'lik...\n",
      "                            ...                        \n",
      "95    'retweet_count': 71, 'reply_count': 0, 'like_c...\n",
      "96    'retweet_count': 0, 'reply_count': 0, 'like_co...\n",
      "97    'retweet_count': 0, 'reply_count': 0, 'like_co...\n",
      "98    'retweet_count': 1094, 'reply_count': 0, 'like...\n",
      "99    'retweet_count': 277, 'reply_count': 0, 'like_...\n",
      "Name: public_metrics, Length: 100, dtype: object\n",
      "                    id lang         username                 created_at  \\\n",
      "0  1572129025019248644   en    IndianExpress  2022-09-20 07:42:22+00:00   \n",
      "1  1572129024813707271   ja      Collectbook  2022-09-20 07:42:22+00:00   \n",
      "2  1572129023748186115   ar    bdalrhmn_ghzl  2022-09-20 07:42:22+00:00   \n",
      "3  1572129023287001090   ar  Hansraj48299197  2022-09-20 07:42:22+00:00   \n",
      "4  1572129021340831746   th   imyourwalnuttt  2022-09-20 07:42:22+00:00   \n",
      "\n",
      "                                      public_metrics  \n",
      "0  'retweet_count': 1, 'reply_count': 0, 'like_co...  \n",
      "1  'retweet_count': 0, 'reply_count': 0, 'like_co...  \n",
      "2  'retweet_count': 12890, 'reply_count': 0, 'lik...  \n",
      "3  'retweet_count': 6227, 'reply_count': 0, 'like...  \n",
      "4  'retweet_count': 15421, 'reply_count': 0, 'lik...  \n"
     ]
    },
    {
     "name": "stderr",
     "output_type": "stream",
     "text": [
      "/var/folders/38/82qmd0hx4qlc9m1_bhwk48n40000gp/T/ipykernel_60513/1743870856.py:1: FutureWarning: The default value of regex will change from True to False in a future version. In addition, single character regular expressions will *not* be treated as literal strings when regex=True.\n",
      "  twitter_df['public_metrics'] = twitter_df['public_metrics'].str.replace(\"{\",\"\")\n",
      "/var/folders/38/82qmd0hx4qlc9m1_bhwk48n40000gp/T/ipykernel_60513/1743870856.py:2: FutureWarning: The default value of regex will change from True to False in a future version. In addition, single character regular expressions will *not* be treated as literal strings when regex=True.\n",
      "  twitter_df['public_metrics'] = twitter_df['public_metrics'].str.replace(\"}\",\"\")\n"
     ]
    }
   ],
   "source": [
    "twitter_df['public_metrics'] = twitter_df['public_metrics'].str.replace(\"{\",\"\")\n",
    "twitter_df['public_metrics'] = twitter_df['public_metrics'].str.replace(\"}\",\"\") \n",
    "print(twitter_df['public_metrics'])\n",
    "print(twitter_df.head())\n"
   ]
  },
  {
   "cell_type": "code",
   "execution_count": 11,
   "id": "1bbea08d",
   "metadata": {},
   "outputs": [
    {
     "name": "stdout",
     "output_type": "stream",
     "text": [
      "                    id lang         username                 created_at  \\\n",
      "0  1572129025019248644   en    IndianExpress  2022-09-20 07:42:22+00:00   \n",
      "1  1572129024813707271   ja      Collectbook  2022-09-20 07:42:22+00:00   \n",
      "2  1572129023748186115   ar    bdalrhmn_ghzl  2022-09-20 07:42:22+00:00   \n",
      "3  1572129023287001090   ar  Hansraj48299197  2022-09-20 07:42:22+00:00   \n",
      "4  1572129021340831746   th   imyourwalnuttt  2022-09-20 07:42:22+00:00   \n",
      "\n",
      "                                      public_metrics           retweet_count  \\\n",
      "0  'retweet_count': 1, 'reply_count': 0, 'like_co...      'retweet_count': 1   \n",
      "1  'retweet_count': 0, 'reply_count': 0, 'like_co...      'retweet_count': 0   \n",
      "2  'retweet_count': 12890, 'reply_count': 0, 'lik...  'retweet_count': 12890   \n",
      "3  'retweet_count': 6227, 'reply_count': 0, 'like...   'retweet_count': 6227   \n",
      "4  'retweet_count': 15421, 'reply_count': 0, 'lik...  'retweet_count': 15421   \n",
      "\n",
      "         reply_count        like_count        quote_count  \n",
      "0   'reply_count': 0   'like_count': 0   'quote_count': 0  \n",
      "1   'reply_count': 0   'like_count': 0   'quote_count': 0  \n",
      "2   'reply_count': 0   'like_count': 0   'quote_count': 0  \n",
      "3   'reply_count': 0   'like_count': 0   'quote_count': 0  \n",
      "4   'reply_count': 0   'like_count': 0   'quote_count': 0  \n"
     ]
    }
   ],
   "source": [
    "twitter_df[['retweet_count','reply_count', 'like_count', 'quote_count']] = twitter_df.public_metrics.str.split(\",\", expand=True)\n",
    "print(twitter_df.head())"
   ]
  },
  {
   "cell_type": "code",
   "execution_count": 12,
   "id": "9738614d",
   "metadata": {
    "scrolled": true
   },
   "outputs": [
    {
     "name": "stdout",
     "output_type": "stream",
     "text": [
      "                    id lang         username                 created_at  \\\n",
      "0  1572129025019248644   en    IndianExpress  2022-09-20 07:42:22+00:00   \n",
      "1  1572129024813707271   ja      Collectbook  2022-09-20 07:42:22+00:00   \n",
      "2  1572129023748186115   ar    bdalrhmn_ghzl  2022-09-20 07:42:22+00:00   \n",
      "3  1572129023287001090   ar  Hansraj48299197  2022-09-20 07:42:22+00:00   \n",
      "4  1572129021340831746   th   imyourwalnuttt  2022-09-20 07:42:22+00:00   \n",
      "\n",
      "                                      public_metrics retweet_count  \\\n",
      "0  'retweet_count': 1, 'reply_count': 0, 'like_co...             1   \n",
      "1  'retweet_count': 0, 'reply_count': 0, 'like_co...             0   \n",
      "2  'retweet_count': 12890, 'reply_count': 0, 'lik...         12890   \n",
      "3  'retweet_count': 6227, 'reply_count': 0, 'like...          6227   \n",
      "4  'retweet_count': 15421, 'reply_count': 0, 'lik...         15421   \n",
      "\n",
      "         reply_count        like_count        quote_count delete_retweet_count  \n",
      "0   'reply_count': 0   'like_count': 0   'quote_count': 0      'retweet_count'  \n",
      "1   'reply_count': 0   'like_count': 0   'quote_count': 0      'retweet_count'  \n",
      "2   'reply_count': 0   'like_count': 0   'quote_count': 0      'retweet_count'  \n",
      "3   'reply_count': 0   'like_count': 0   'quote_count': 0      'retweet_count'  \n",
      "4   'reply_count': 0   'like_count': 0   'quote_count': 0      'retweet_count'  \n",
      "<class 'pandas.core.frame.DataFrame'>\n",
      "RangeIndex: 100 entries, 0 to 99\n",
      "Data columns (total 10 columns):\n",
      " #   Column                Non-Null Count  Dtype \n",
      "---  ------                --------------  ----- \n",
      " 0   id                    100 non-null    int64 \n",
      " 1   lang                  100 non-null    object\n",
      " 2   username              100 non-null    object\n",
      " 3   created_at            100 non-null    object\n",
      " 4   public_metrics        100 non-null    object\n",
      " 5   retweet_count         100 non-null    object\n",
      " 6   reply_count           100 non-null    object\n",
      " 7   like_count            100 non-null    object\n",
      " 8   quote_count           100 non-null    object\n",
      " 9   delete_retweet_count  100 non-null    object\n",
      "dtypes: int64(1), object(9)\n",
      "memory usage: 7.9+ KB\n"
     ]
    }
   ],
   "source": [
    "twitter_df[['delete_retweet_count', 'retweet_count']] = twitter_df[\"retweet_count\"].str.split(\":\", expand=True)\n",
    "print(twitter_df.head())\n",
    "twitter_df.info()"
   ]
  },
  {
   "cell_type": "code",
   "execution_count": 13,
   "id": "32ec1b1e",
   "metadata": {},
   "outputs": [],
   "source": [
    "twitter_df['retweet_count'] = twitter_df['retweet_count'].astype(int)"
   ]
  },
  {
   "cell_type": "code",
   "execution_count": 14,
   "id": "67fd2234",
   "metadata": {},
   "outputs": [
    {
     "name": "stdout",
     "output_type": "stream",
     "text": [
      "<class 'pandas.core.frame.DataFrame'>\n",
      "RangeIndex: 100 entries, 0 to 99\n",
      "Data columns (total 10 columns):\n",
      " #   Column                Non-Null Count  Dtype \n",
      "---  ------                --------------  ----- \n",
      " 0   id                    100 non-null    int64 \n",
      " 1   lang                  100 non-null    object\n",
      " 2   username              100 non-null    object\n",
      " 3   created_at            100 non-null    object\n",
      " 4   public_metrics        100 non-null    object\n",
      " 5   retweet_count         100 non-null    int64 \n",
      " 6   reply_count           100 non-null    object\n",
      " 7   like_count            100 non-null    object\n",
      " 8   quote_count           100 non-null    object\n",
      " 9   delete_retweet_count  100 non-null    object\n",
      "dtypes: int64(2), object(8)\n",
      "memory usage: 7.9+ KB\n",
      "<class 'pandas.core.series.Series'>\n",
      "RangeIndex: 100 entries, 0 to 99\n",
      "Series name: delete_retweet_count\n",
      "Non-Null Count  Dtype \n",
      "--------------  ----- \n",
      "100 non-null    object\n",
      "dtypes: object(1)\n",
      "memory usage: 928.0+ bytes\n",
      "                    id lang         username                 created_at  \\\n",
      "0  1572129025019248644   en    IndianExpress  2022-09-20 07:42:22+00:00   \n",
      "1  1572129024813707271   ja      Collectbook  2022-09-20 07:42:22+00:00   \n",
      "2  1572129023748186115   ar    bdalrhmn_ghzl  2022-09-20 07:42:22+00:00   \n",
      "3  1572129023287001090   ar  Hansraj48299197  2022-09-20 07:42:22+00:00   \n",
      "4  1572129021340831746   th   imyourwalnuttt  2022-09-20 07:42:22+00:00   \n",
      "\n",
      "                                      public_metrics  retweet_count  \\\n",
      "0  'retweet_count': 1, 'reply_count': 0, 'like_co...              1   \n",
      "1  'retweet_count': 0, 'reply_count': 0, 'like_co...              0   \n",
      "2  'retweet_count': 12890, 'reply_count': 0, 'lik...          12890   \n",
      "3  'retweet_count': 6227, 'reply_count': 0, 'like...           6227   \n",
      "4  'retweet_count': 15421, 'reply_count': 0, 'lik...          15421   \n",
      "\n",
      "         reply_count        like_count        quote_count  \n",
      "0   'reply_count': 0   'like_count': 0   'quote_count': 0  \n",
      "1   'reply_count': 0   'like_count': 0   'quote_count': 0  \n",
      "2   'reply_count': 0   'like_count': 0   'quote_count': 0  \n",
      "3   'reply_count': 0   'like_count': 0   'quote_count': 0  \n",
      "4   'reply_count': 0   'like_count': 0   'quote_count': 0  \n"
     ]
    }
   ],
   "source": [
    "twitter_df.info()\n",
    "twitter_df['delete_retweet_count'].info()\n",
    "twitter_df.drop(columns='delete_retweet_count', inplace=True)\n",
    "print(twitter_df.head())"
   ]
  },
  {
   "cell_type": "code",
   "execution_count": 15,
   "id": "ccc2afb2",
   "metadata": {},
   "outputs": [
    {
     "name": "stdout",
     "output_type": "stream",
     "text": [
      "0         1\n",
      "1         0\n",
      "2     12890\n",
      "3      6227\n",
      "4     15421\n",
      "      ...  \n",
      "95       71\n",
      "96        0\n",
      "97        0\n",
      "98     1094\n",
      "99      277\n",
      "Name: retweet_count, Length: 100, dtype: int64\n"
     ]
    }
   ],
   "source": [
    "print(twitter_df['retweet_count'])"
   ]
  },
  {
   "cell_type": "markdown",
   "id": "96a56156",
   "metadata": {},
   "source": [
    "The code below shows the steps that I took towards seperating the values from the attribute by splitting the 'retweet_count' into 'delete_retweet_count' and 'retweet_count' with the first split column including information I didn't need and the second column with the values. "
   ]
  },
  {
   "cell_type": "raw",
   "id": "aff576e1",
   "metadata": {},
   "source": [
    "twitter_df[['delete_retweet_count', 'retweet_count']] = twitter_df[\"retweet_count\"].str.split(\":\", expand=True)\n",
    "print(twitter_df.head())"
   ]
  },
  {
   "cell_type": "markdown",
   "id": "2e81fd4f",
   "metadata": {},
   "source": [
    "I then turned the values from the modified 'retweet_count' to integer values since they were still strings at that point. "
   ]
  },
  {
   "cell_type": "raw",
   "id": "866596df",
   "metadata": {},
   "source": [
    "twitter_df['retweet_count'] = twitter_df['retweet_count'].astype(int)twitter_df.info()\n",
    "twitter_df['delete_retweet_count'].info()"
   ]
  },
  {
   "cell_type": "markdown",
   "id": "f121e5b1",
   "metadata": {},
   "source": [
    "The last change that I did to the Data Frame was dropping the column. I will be repeating the steps above for the other three columns"
   ]
  },
  {
   "cell_type": "raw",
   "id": "55e0b1a4",
   "metadata": {},
   "source": [
    "twitter_df.drop(columns='delete_retweet_count', inplace=True)\n",
    "print(twitter_df.head())\n",
    "print(twitter_df['retweet_count'])"
   ]
  },
  {
   "cell_type": "code",
   "execution_count": 16,
   "id": "251b9ab9",
   "metadata": {},
   "outputs": [
    {
     "name": "stdout",
     "output_type": "stream",
     "text": [
      "                    id lang         username                 created_at  \\\n",
      "0  1572129025019248644   en    IndianExpress  2022-09-20 07:42:22+00:00   \n",
      "1  1572129024813707271   ja      Collectbook  2022-09-20 07:42:22+00:00   \n",
      "2  1572129023748186115   ar    bdalrhmn_ghzl  2022-09-20 07:42:22+00:00   \n",
      "3  1572129023287001090   ar  Hansraj48299197  2022-09-20 07:42:22+00:00   \n",
      "4  1572129021340831746   th   imyourwalnuttt  2022-09-20 07:42:22+00:00   \n",
      "\n",
      "                                      public_metrics  retweet_count  \\\n",
      "0  'retweet_count': 1, 'reply_count': 0, 'like_co...              1   \n",
      "1  'retweet_count': 0, 'reply_count': 0, 'like_co...              0   \n",
      "2  'retweet_count': 12890, 'reply_count': 0, 'lik...          12890   \n",
      "3  'retweet_count': 6227, 'reply_count': 0, 'like...           6227   \n",
      "4  'retweet_count': 15421, 'reply_count': 0, 'lik...          15421   \n",
      "\n",
      "  reply_count like_count quote_count delete_reply_count delete_like_count  \\\n",
      "0           0          0           0      'reply_count'      'like_count'   \n",
      "1           0          0           0      'reply_count'      'like_count'   \n",
      "2           0          0           0      'reply_count'      'like_count'   \n",
      "3           0          0           0      'reply_count'      'like_count'   \n",
      "4           0          0           0      'reply_count'      'like_count'   \n",
      "\n",
      "  delete_quote_count  \n",
      "0      'quote_count'  \n",
      "1      'quote_count'  \n",
      "2      'quote_count'  \n",
      "3      'quote_count'  \n",
      "4      'quote_count'  \n"
     ]
    }
   ],
   "source": [
    "twitter_df[['delete_reply_count', 'reply_count']] = twitter_df['reply_count'].str.split(\":\", expand=True)\n",
    "twitter_df[['delete_like_count', 'like_count']] = twitter_df['like_count'].str.split(\":\", expand=True)\n",
    "twitter_df[['delete_quote_count', 'quote_count']] = twitter_df['quote_count'].str.split(\":\", expand=True)\n",
    "print(twitter_df.head())"
   ]
  },
  {
   "cell_type": "code",
   "execution_count": 17,
   "id": "99647c64",
   "metadata": {},
   "outputs": [
    {
     "name": "stdout",
     "output_type": "stream",
     "text": [
      "<class 'pandas.core.frame.DataFrame'>\n",
      "RangeIndex: 100 entries, 0 to 99\n",
      "Data columns (total 12 columns):\n",
      " #   Column              Non-Null Count  Dtype \n",
      "---  ------              --------------  ----- \n",
      " 0   id                  100 non-null    int64 \n",
      " 1   lang                100 non-null    object\n",
      " 2   username            100 non-null    object\n",
      " 3   created_at          100 non-null    object\n",
      " 4   public_metrics      100 non-null    object\n",
      " 5   retweet_count       100 non-null    int64 \n",
      " 6   reply_count         100 non-null    object\n",
      " 7   like_count          100 non-null    object\n",
      " 8   quote_count         100 non-null    object\n",
      " 9   delete_reply_count  100 non-null    object\n",
      " 10  delete_like_count   100 non-null    object\n",
      " 11  delete_quote_count  100 non-null    object\n",
      "dtypes: int64(2), object(10)\n",
      "memory usage: 9.5+ KB\n"
     ]
    }
   ],
   "source": [
    "twitter_df.info()"
   ]
  },
  {
   "cell_type": "code",
   "execution_count": 18,
   "id": "06a881bb",
   "metadata": {},
   "outputs": [],
   "source": [
    "twitter_df[['reply_count', 'like_count', 'quote_count']] = twitter_df[['reply_count', 'like_count', 'quote_count']].apply(lambda x: x.astype('int'))"
   ]
  },
  {
   "cell_type": "code",
   "execution_count": 19,
   "id": "eab7ebbe",
   "metadata": {},
   "outputs": [
    {
     "name": "stdout",
     "output_type": "stream",
     "text": [
      "<class 'pandas.core.frame.DataFrame'>\n",
      "RangeIndex: 100 entries, 0 to 99\n",
      "Data columns (total 12 columns):\n",
      " #   Column              Non-Null Count  Dtype \n",
      "---  ------              --------------  ----- \n",
      " 0   id                  100 non-null    int64 \n",
      " 1   lang                100 non-null    object\n",
      " 2   username            100 non-null    object\n",
      " 3   created_at          100 non-null    object\n",
      " 4   public_metrics      100 non-null    object\n",
      " 5   retweet_count       100 non-null    int64 \n",
      " 6   reply_count         100 non-null    int64 \n",
      " 7   like_count          100 non-null    int64 \n",
      " 8   quote_count         100 non-null    int64 \n",
      " 9   delete_reply_count  100 non-null    object\n",
      " 10  delete_like_count   100 non-null    object\n",
      " 11  delete_quote_count  100 non-null    object\n",
      "dtypes: int64(5), object(7)\n",
      "memory usage: 9.5+ KB\n"
     ]
    }
   ],
   "source": [
    "twitter_df.info()"
   ]
  },
  {
   "cell_type": "code",
   "execution_count": 20,
   "id": "b844c950",
   "metadata": {},
   "outputs": [],
   "source": [
    "twitter_df = twitter_df.drop(twitter_df.loc[:, 'delete_reply_count':'delete_quote_count'].columns, axis=1)"
   ]
  },
  {
   "cell_type": "markdown",
   "id": "ae6185d5",
   "metadata": {},
   "source": [
    "We have the four seperate attributes created from public_metrics so we can now delete it from the rest of the columns."
   ]
  },
  {
   "cell_type": "code",
   "execution_count": 21,
   "id": "88027a4b",
   "metadata": {},
   "outputs": [
    {
     "name": "stdout",
     "output_type": "stream",
     "text": [
      "                    id lang         username                 created_at  \\\n",
      "0  1572129025019248644   en    IndianExpress  2022-09-20 07:42:22+00:00   \n",
      "1  1572129024813707271   ja      Collectbook  2022-09-20 07:42:22+00:00   \n",
      "2  1572129023748186115   ar    bdalrhmn_ghzl  2022-09-20 07:42:22+00:00   \n",
      "3  1572129023287001090   ar  Hansraj48299197  2022-09-20 07:42:22+00:00   \n",
      "4  1572129021340831746   th   imyourwalnuttt  2022-09-20 07:42:22+00:00   \n",
      "\n",
      "   retweet_count  reply_count  like_count  quote_count  \n",
      "0              1            0           0            0  \n",
      "1              0            0           0            0  \n",
      "2          12890            0           0            0  \n",
      "3           6227            0           0            0  \n",
      "4          15421            0           0            0  \n"
     ]
    }
   ],
   "source": [
    "twitter_df.drop(columns='public_metrics', inplace=True)\n",
    "print(twitter_df.head())"
   ]
  },
  {
   "cell_type": "code",
   "execution_count": 22,
   "id": "81e6b266",
   "metadata": {},
   "outputs": [],
   "source": [
    "twitter_df.rename(columns={'id':'ID', 'lang':'Language', 'username':'Username', 'created_at':'Created at',\n",
    "                           'retweet_count':'Retweets', 'reply_count':'Replies', 'like_count':'Likes', 'quote_count': 'Quotes'}, inplace = True)"
   ]
  },
  {
   "cell_type": "markdown",
   "id": "3730a181",
   "metadata": {},
   "source": [
    "I wanted to make the attributes a little bit more cleaned up so I opted to capitalize them. "
   ]
  },
  {
   "cell_type": "code",
   "execution_count": 23,
   "id": "68a0c0c3",
   "metadata": {},
   "outputs": [
    {
     "name": "stdout",
     "output_type": "stream",
     "text": [
      "                    ID Language         Username                 Created at  \\\n",
      "0  1572129025019248644       en    IndianExpress  2022-09-20 07:42:22+00:00   \n",
      "1  1572129024813707271       ja      Collectbook  2022-09-20 07:42:22+00:00   \n",
      "2  1572129023748186115       ar    bdalrhmn_ghzl  2022-09-20 07:42:22+00:00   \n",
      "3  1572129023287001090       ar  Hansraj48299197  2022-09-20 07:42:22+00:00   \n",
      "4  1572129021340831746       th   imyourwalnuttt  2022-09-20 07:42:22+00:00   \n",
      "\n",
      "   Retweets  Replies  Likes  Quotes  \n",
      "0         1        0      0       0  \n",
      "1         0        0      0       0  \n",
      "2     12890        0      0       0  \n",
      "3      6227        0      0       0  \n",
      "4     15421        0      0       0  \n"
     ]
    }
   ],
   "source": [
    "print(twitter_df.head())"
   ]
  },
  {
   "cell_type": "code",
   "execution_count": 24,
   "id": "6c4a0fcf",
   "metadata": {},
   "outputs": [
    {
     "data": {
      "text/html": [
       "<div>\n",
       "<style scoped>\n",
       "    .dataframe tbody tr th:only-of-type {\n",
       "        vertical-align: middle;\n",
       "    }\n",
       "\n",
       "    .dataframe tbody tr th {\n",
       "        vertical-align: top;\n",
       "    }\n",
       "\n",
       "    .dataframe thead th {\n",
       "        text-align: right;\n",
       "    }\n",
       "</style>\n",
       "<table border=\"1\" class=\"dataframe\">\n",
       "  <thead>\n",
       "    <tr style=\"text-align: right;\">\n",
       "      <th></th>\n",
       "      <th>ID</th>\n",
       "      <th>Retweets</th>\n",
       "      <th>Replies</th>\n",
       "      <th>Likes</th>\n",
       "      <th>Quotes</th>\n",
       "    </tr>\n",
       "  </thead>\n",
       "  <tbody>\n",
       "    <tr>\n",
       "      <th>count</th>\n",
       "      <td>1.000000e+02</td>\n",
       "      <td>100.000000</td>\n",
       "      <td>100.00</td>\n",
       "      <td>100.0</td>\n",
       "      <td>100.0</td>\n",
       "    </tr>\n",
       "    <tr>\n",
       "      <th>mean</th>\n",
       "      <td>1.572129e+18</td>\n",
       "      <td>3375.450000</td>\n",
       "      <td>0.01</td>\n",
       "      <td>0.0</td>\n",
       "      <td>0.0</td>\n",
       "    </tr>\n",
       "    <tr>\n",
       "      <th>std</th>\n",
       "      <td>2.788202e+10</td>\n",
       "      <td>7044.052833</td>\n",
       "      <td>0.10</td>\n",
       "      <td>0.0</td>\n",
       "      <td>0.0</td>\n",
       "    </tr>\n",
       "    <tr>\n",
       "      <th>min</th>\n",
       "      <td>1.572129e+18</td>\n",
       "      <td>0.000000</td>\n",
       "      <td>0.00</td>\n",
       "      <td>0.0</td>\n",
       "      <td>0.0</td>\n",
       "    </tr>\n",
       "    <tr>\n",
       "      <th>25%</th>\n",
       "      <td>1.572129e+18</td>\n",
       "      <td>1.750000</td>\n",
       "      <td>0.00</td>\n",
       "      <td>0.0</td>\n",
       "      <td>0.0</td>\n",
       "    </tr>\n",
       "    <tr>\n",
       "      <th>50%</th>\n",
       "      <td>1.572129e+18</td>\n",
       "      <td>155.500000</td>\n",
       "      <td>0.00</td>\n",
       "      <td>0.0</td>\n",
       "      <td>0.0</td>\n",
       "    </tr>\n",
       "    <tr>\n",
       "      <th>75%</th>\n",
       "      <td>1.572129e+18</td>\n",
       "      <td>1479.500000</td>\n",
       "      <td>0.00</td>\n",
       "      <td>0.0</td>\n",
       "      <td>0.0</td>\n",
       "    </tr>\n",
       "    <tr>\n",
       "      <th>max</th>\n",
       "      <td>1.572129e+18</td>\n",
       "      <td>35346.000000</td>\n",
       "      <td>1.00</td>\n",
       "      <td>0.0</td>\n",
       "      <td>0.0</td>\n",
       "    </tr>\n",
       "  </tbody>\n",
       "</table>\n",
       "</div>"
      ],
      "text/plain": [
       "                 ID      Retweets  Replies  Likes  Quotes\n",
       "count  1.000000e+02    100.000000   100.00  100.0   100.0\n",
       "mean   1.572129e+18   3375.450000     0.01    0.0     0.0\n",
       "std    2.788202e+10   7044.052833     0.10    0.0     0.0\n",
       "min    1.572129e+18      0.000000     0.00    0.0     0.0\n",
       "25%    1.572129e+18      1.750000     0.00    0.0     0.0\n",
       "50%    1.572129e+18    155.500000     0.00    0.0     0.0\n",
       "75%    1.572129e+18   1479.500000     0.00    0.0     0.0\n",
       "max    1.572129e+18  35346.000000     1.00    0.0     0.0"
      ]
     },
     "execution_count": 24,
     "metadata": {},
     "output_type": "execute_result"
    }
   ],
   "source": [
    "twitter_df.describe()"
   ]
  },
  {
   "cell_type": "code",
   "execution_count": 25,
   "id": "81f556c7",
   "metadata": {},
   "outputs": [
    {
     "name": "stdout",
     "output_type": "stream",
     "text": [
      "                     ID Language         Username                 Created at  \\\n",
      "0   1572129025019248644       en    IndianExpress  2022-09-20 07:42:22+00:00   \n",
      "1   1572129024813707271       ja      Collectbook  2022-09-20 07:42:22+00:00   \n",
      "2   1572129023748186115       ar    bdalrhmn_ghzl  2022-09-20 07:42:22+00:00   \n",
      "3   1572129023287001090       ar  Hansraj48299197  2022-09-20 07:42:22+00:00   \n",
      "4   1572129021340831746       th   imyourwalnuttt  2022-09-20 07:42:22+00:00   \n",
      "..                  ...      ...              ...                        ...   \n",
      "95  1572128933348360195       en      Splendoura1  2022-09-20 07:42:01+00:00   \n",
      "96  1572128932690006019       in    hazimhalimmmm  2022-09-20 07:42:00+00:00   \n",
      "97  1572128932396412930       en     simplyyhamza  2022-09-20 07:42:00+00:00   \n",
      "98  1572128930324414464       ja   angelmiyukorin  2022-09-20 07:42:00+00:00   \n",
      "99  1572128929686913024       th        lay_metal  2022-09-20 07:42:00+00:00   \n",
      "\n",
      "    Retweets  Replies  Likes  Quotes  \n",
      "0          1        0      0       0  \n",
      "1          0        0      0       0  \n",
      "2      12890        0      0       0  \n",
      "3       6227        0      0       0  \n",
      "4      15421        0      0       0  \n",
      "..       ...      ...    ...     ...  \n",
      "95        71        0      0       0  \n",
      "96         0        0      0       0  \n",
      "97         0        0      0       0  \n",
      "98      1094        0      0       0  \n",
      "99       277        0      0       0  \n",
      "\n",
      "[100 rows x 8 columns]\n"
     ]
    }
   ],
   "source": [
    "print(twitter_df)"
   ]
  },
  {
   "cell_type": "markdown",
   "id": "4921dd93",
   "metadata": {},
   "source": [
    "Unfortunately, it seems like the only two factors that are discernible/plottable would be languages and retweets. "
   ]
  },
  {
   "cell_type": "code",
   "execution_count": 26,
   "id": "119c94ad",
   "metadata": {},
   "outputs": [],
   "source": [
    "twitter_df['Language'] = twitter_df['Language'].astype(str)\n",
    "df_relation = twitter_df[['Language', 'Retweets']]"
   ]
  },
  {
   "cell_type": "code",
   "execution_count": 27,
   "id": "8152950e",
   "metadata": {},
   "outputs": [
    {
     "name": "stdout",
     "output_type": "stream",
     "text": [
      "   Language  Retweets\n",
      "0        en         1\n",
      "1        ja         0\n",
      "2        ar     12890\n",
      "3        ar      6227\n",
      "4        th     15421\n",
      "..      ...       ...\n",
      "95       en        71\n",
      "96       in         0\n",
      "97       en         0\n",
      "98       ja      1094\n",
      "99       th       277\n",
      "\n",
      "[100 rows x 2 columns]\n",
      "<class 'pandas.core.frame.DataFrame'>\n",
      "RangeIndex: 100 entries, 0 to 99\n",
      "Data columns (total 2 columns):\n",
      " #   Column    Non-Null Count  Dtype \n",
      "---  ------    --------------  ----- \n",
      " 0   Language  100 non-null    object\n",
      " 1   Retweets  100 non-null    int64 \n",
      "dtypes: int64(1), object(1)\n",
      "memory usage: 1.7+ KB\n"
     ]
    }
   ],
   "source": [
    "print(df_relation)\n",
    "df_relation.info()"
   ]
  },
  {
   "cell_type": "markdown",
   "id": "95e031a3",
   "metadata": {},
   "source": [
    "This subset of the dataframe focuses on the Language and the number of retweets from that specific tweet."
   ]
  },
  {
   "cell_type": "code",
   "execution_count": 28,
   "id": "0cd13a23",
   "metadata": {},
   "outputs": [
    {
     "data": {
      "text/plain": [
       "35346"
      ]
     },
     "execution_count": 28,
     "metadata": {},
     "output_type": "execute_result"
    }
   ],
   "source": [
    "twitter_df['Retweets'].max() \n",
    "#twitter_df['Retweets'].idxmax()"
   ]
  },
  {
   "cell_type": "code",
   "execution_count": 29,
   "id": "9d750a80",
   "metadata": {},
   "outputs": [
    {
     "data": {
      "image/png": "[encoded data removed]",
      "text/plain": [
       "<Figure size 432x288 with 1 Axes>"
      ]
     },
     "metadata": {
      "needs_background": "light"
     },
     "output_type": "display_data"
    }
   ],
   "source": [
    "import matplotlib.pyplot as plt\n",
    "twitter_df['Language'].value_counts().plot(kind='bar')\n",
    "plt.ylabel('Tweets')\n",
    "plt.xlabel('Languages')\n",
    "plt.title('Number of Tweets about iPhone 14 across different languages', fontsize=15)\n",
    "plt.savefig('tweets_iphone14_languages.jpg')\n"
   ]
  },
  {
   "cell_type": "markdown",
   "id": "9867b6bf",
   "metadata": {},
   "source": [
    "The histogram shown above display the number of tweets in certain languages. In the histogram, the horizontal label shows the categories of each language with the number of tweets on the vertical mode shown by the bars. In this case, you can see that in the sample of 100 tweets; Japanese, English, and Arabic make up the languages used in this sample. "
   ]
  },
  {
   "cell_type": "code",
   "execution_count": 30,
   "id": "98db46e2",
   "metadata": {},
   "outputs": [],
   "source": [
    "#trying to accumulate the number of retweets in each language \n",
    "lang = []\n",
    "list_tweets_language = twitter_df['Language'].values.tolist()\n",
    "for i in twitter_df['Language']:\n",
    "    if i in lang: \n",
    "        continue\n",
    "    else: \n",
    "        lang.append(i)"
   ]
  },
  {
   "cell_type": "code",
   "execution_count": 31,
   "id": "d559e5f7",
   "metadata": {},
   "outputs": [
    {
     "name": "stdout",
     "output_type": "stream",
     "text": [
      "['en', 'ja', 'ar', 'th', 'pt', 'fr', 'es', 'ru', 'in', 'qht']\n"
     ]
    }
   ],
   "source": [
    "print(lang)"
   ]
  },
  {
   "cell_type": "code",
   "execution_count": 32,
   "id": "a5efe451",
   "metadata": {},
   "outputs": [
    {
     "name": "stdout",
     "output_type": "stream",
     "text": [
      "Language\n",
      "ar     295208\n",
      "en       5457\n",
      "es       3611\n",
      "fr       4501\n",
      "in        989\n",
      "ja      12049\n",
      "pt          0\n",
      "qht        32\n",
      "ru          0\n",
      "th      15698\n",
      "Name: Retweets, dtype: int64\n"
     ]
    }
   ],
   "source": [
    "list_retweets = twitter_df['Retweets'].values.tolist()\n",
    "#this code is used to sort numbers into each language\n",
    "languages_with_tweets = twitter_df.groupby('Language')['Retweets'].sum() \n",
    "print(languages_with_tweets)"
   ]
  },
  {
   "cell_type": "code",
   "execution_count": 33,
   "id": "d482e815",
   "metadata": {},
   "outputs": [
    {
     "data": {
      "image/png": "[encoded data removed]",
      "text/plain": [
       "<Figure size 1440x1080 with 1 Axes>"
      ]
     },
     "metadata": {},
     "output_type": "display_data"
    }
   ],
   "source": [
    "#trying to accumulate number of tweets in each language \n",
    "languages_with_tweets.plot(kind='pie', autopct='%1.0f%%', figsize=(20, 15), textprops={'fontsize': 15})\n",
    "plt.title('Percentage of Retweets by Language', fontsize=20)\n",
    "plt.savefig('percentage_retweets_language.jpg')"
   ]
  },
  {
   "cell_type": "markdown",
   "id": "99860e60",
   "metadata": {},
   "source": [
    "The following graph shows the percentage of retweets based on language. It seems based on the pie chart that tweets in arabic in the sample had more retweets in general with thai having the second most retweets."
   ]
  },
  {
   "cell_type": "code",
   "execution_count": 34,
   "id": "ff4b51f0",
   "metadata": {},
   "outputs": [
    {
     "name": "stdout",
     "output_type": "stream",
     "text": [
      "          Retweets\n",
      "Language          \n",
      "ar          295208\n",
      "en            5457\n",
      "es            3611\n",
      "fr            4501\n",
      "in             989\n",
      "ja           12049\n",
      "pt               0\n",
      "qht             32\n",
      "ru               0\n",
      "th           15698\n"
     ]
    }
   ],
   "source": [
    "type(languages_with_tweets)\n",
    "languages_with_tweets = languages_with_tweets.to_frame()\n",
    "print(languages_with_tweets)"
   ]
  },
  {
   "cell_type": "code",
   "execution_count": 35,
   "id": "52ebbdd3",
   "metadata": {},
   "outputs": [
    {
     "name": "stdout",
     "output_type": "stream",
     "text": [
      "Language\n",
      "ar     295208\n",
      "en       5457\n",
      "es       3611\n",
      "fr       4501\n",
      "in        989\n",
      "ja      12049\n",
      "pt          0\n",
      "qht        32\n",
      "ru          0\n",
      "th      15698\n",
      "Name: Retweets, dtype: int64\n"
     ]
    }
   ],
   "source": [
    "print(languages_with_tweets['Retweets'])\n",
    "values = languages_with_tweets.values.tolist()"
   ]
  },
  {
   "cell_type": "code",
   "execution_count": 36,
   "id": "f866bbdf",
   "metadata": {},
   "outputs": [
    {
     "name": "stdout",
     "output_type": "stream",
     "text": [
      "['ar', 'en', 'es', 'fr', 'in', 'ja', 'pt', 'qht', 'ru', 'th']\n"
     ]
    }
   ],
   "source": [
    "import seaborn as sns\n",
    "retweets = [295208, 5457, 3611, 4501, 989, 12049, 0, 32, 0, 15698]\n",
    "lang = ['ar', 'en', 'es', 'fr', 'in', 'ja', 'pt', 'qht', 'ru', 'th']\n",
    "print(lang)\n",
    "#lang_retweets_dict = dict(zip(lang, retweets))\n"
   ]
  },
  {
   "cell_type": "code",
   "execution_count": 37,
   "id": "acfe9ee3",
   "metadata": {},
   "outputs": [
    {
     "data": {
      "image/png": "[encoded data removed]",
      "text/plain": [
       "<Figure size 1080x360 with 1 Axes>"
      ]
     },
     "metadata": {
      "needs_background": "light"
     },
     "output_type": "display_data"
    }
   ],
   "source": [
    "fig = plt.figure(figsize = (15, 5))\n",
    " \n",
    "# creating the bar plot\n",
    "plt.bar(lang, retweets, color ='orange',\n",
    "        width = 0.5)\n",
    "plt.xlabel(\"Languages\", fontsize=15)\n",
    "plt.ylabel(\"# of Retweets\", fontsize=15)\n",
    "plt.title(\"Number of Retweets by Language\", fontsize=25)\n",
    "plt.savefig('retweets_by_language.jpg')"
   ]
  },
  {
   "cell_type": "markdown",
   "id": "472f51ac",
   "metadata": {},
   "source": [
    "The following bar graph shows the information displayed previously on a pie chart in a histogram. As one can see, the number of retweets by other languages are miniscule when compared with those that are arabic. "
   ]
  },
  {
   "cell_type": "code",
   "execution_count": 40,
   "id": "3deb4a58",
   "metadata": {},
   "outputs": [],
   "source": [
    "twitter_df.to_csv('updated_tweepy_data_iPhone.csv', encoding='utf-8')"
   ]
  },
  {
   "cell_type": "code",
   "execution_count": null,
   "id": "6915f6a1",
   "metadata": {},
   "outputs": [],
   "source": []
  }
 ],
 "metadata": {
  "kernelspec": {
   "display_name": "Python 3 (ipykernel)",
   "language": "python",
   "name": "python3"
  },
  "language_info": {
   "codemirror_mode": {
    "name": "ipython",
    "version": 3
   },
   "file_extension": ".py",
   "mimetype": "text/x-python",
   "name": "python",
   "nbconvert_exporter": "python",
   "pygments_lexer": "ipython3",
   "version": "3.9.12"
  }
 },
 "nbformat": 4,
 "nbformat_minor": 5
}
